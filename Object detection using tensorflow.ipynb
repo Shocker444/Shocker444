{
 "cells": [
  {
   "cell_type": "code",
   "execution_count": 1,
   "id": "05ed61f9",
   "metadata": {
    "ExecuteTime": {
     "end_time": "2022-11-11T06:54:01.379568Z",
     "start_time": "2022-11-11T06:49:52.408260Z"
    }
   },
   "outputs": [],
   "source": [
    "import os\n",
    "import pathlib\n",
    "\n",
    "import matplotlib\n",
    "import matplotlib.pyplot as plt\n",
    "\n",
    "import cv2\n",
    "import io\n",
    "import scipy.misc\n",
    "import numpy as np\n",
    "from six import BytesIO\n",
    "from PIL import Image, ImageDraw, ImageFont\n",
    "from six.moves.urllib.request import urlopen\n",
    "\n",
    "import tensorflow as tf\n",
    "import tensorflow_hub as hub\n",
    "\n",
    "tf.get_logger().setLevel('ERROR')"
   ]
  },
  {
   "cell_type": "code",
   "execution_count": 2,
   "id": "f4205713",
   "metadata": {
    "ExecuteTime": {
     "end_time": "2022-11-11T06:55:16.825487Z",
     "start_time": "2022-11-11T06:54:01.449527Z"
    },
    "scrolled": true
   },
   "outputs": [],
   "source": [
    "from object_detection.utils import label_map_util\n",
    "from object_detection.utils import visualization_utils as viz_utils\n",
    "from object_detection.utils import ops as utils_ops\n",
    "from object_detection.models import center_net_hourglass_feature_extractor\n",
    "from object_detection.utils import config_util\n",
    "\n",
    "%matplotlib inline"
   ]
  },
  {
   "cell_type": "code",
   "execution_count": 7,
   "id": "065cb739",
   "metadata": {
    "ExecuteTime": {
     "end_time": "2022-11-10T20:35:18.631559Z",
     "start_time": "2022-11-10T20:35:18.623564Z"
    }
   },
   "outputs": [],
   "source": [
    "detection_model = center_net_hourglass_feature_extractor"
   ]
  },
  {
   "cell_type": "code",
   "execution_count": 3,
   "id": "23f5fecb",
   "metadata": {
    "ExecuteTime": {
     "end_time": "2022-11-11T06:59:21.294968Z",
     "start_time": "2022-11-11T06:55:16.897804Z"
    }
   },
   "outputs": [
    {
     "name": "stderr",
     "output_type": "stream",
     "text": [
      "WARNING:absl:Importing a function (__inference_batchnorm_layer_call_and_return_conditional_losses_53414) with ops with unsaved custom gradients. Will likely fail if a gradient is requested.\n",
      "WARNING:absl:Importing a function (__inference_batchnorm_layer_call_and_return_conditional_losses_35984) with ops with unsaved custom gradients. Will likely fail if a gradient is requested.\n",
      "WARNING:absl:Importing a function (__inference_batchnorm_layer_call_and_return_conditional_losses_213700) with ops with unsaved custom gradients. Will likely fail if a gradient is requested.\n",
      "WARNING:absl:Importing a function (__inference_batchnorm_layer_call_and_return_conditional_losses_38889) with ops with unsaved custom gradients. Will likely fail if a gradient is requested.\n",
      "WARNING:absl:Importing a function (__inference_batchnorm_layer_call_and_return_conditional_losses_54075) with ops with unsaved custom gradients. Will likely fail if a gradient is requested.\n",
      "WARNING:absl:Importing a function (__inference_batchnorm_layer_call_and_return_conditional_losses_54520) with ops with unsaved custom gradients. Will likely fail if a gradient is requested.\n",
      "WARNING:absl:Importing a function (__inference_convolutional_block_73_layer_call_and_return_conditional_losses_200673) with ops with unsaved custom gradients. Will likely fail if a gradient is requested.\n",
      "WARNING:absl:Importing a function (__inference_batchnorm_layer_call_and_return_conditional_losses_47992) with ops with unsaved custom gradients. Will likely fail if a gradient is requested.\n",
      "WARNING:absl:Importing a function (__inference_batchnorm_layer_call_and_return_conditional_losses_38228) with ops with unsaved custom gradients. Will likely fail if a gradient is requested.\n",
      "WARNING:absl:Importing a function (__inference_batchnorm_layer_call_and_return_conditional_losses_208900) with ops with unsaved custom gradients. Will likely fail if a gradient is requested.\n",
      "WARNING:absl:Importing a function (__inference_batchnorm_layer_call_and_return_conditional_losses_45106) with ops with unsaved custom gradients. Will likely fail if a gradient is requested.\n",
      "WARNING:absl:Importing a function (__inference_batchnorm_layer_call_and_return_conditional_losses_52950) with ops with unsaved custom gradients. Will likely fail if a gradient is requested.\n",
      "WARNING:absl:Importing a function (__inference_batchnorm_layer_call_and_return_conditional_losses_202060) with ops with unsaved custom gradients. Will likely fail if a gradient is requested.\n",
      "WARNING:absl:Importing a function (__inference_batchnorm_layer_call_and_return_conditional_losses_206380) with ops with unsaved custom gradients. Will likely fail if a gradient is requested.\n",
      "WARNING:absl:Importing a function (__inference_batchnorm_layer_call_and_return_conditional_losses_209860) with ops with unsaved custom gradients. Will likely fail if a gradient is requested.\n",
      "WARNING:absl:Importing a function (__inference_batchnorm_layer_call_and_return_conditional_losses_215500) with ops with unsaved custom gradients. Will likely fail if a gradient is requested.\n",
      "WARNING:absl:Importing a function (__inference_batchnorm_layer_call_and_return_conditional_losses_205180) with ops with unsaved custom gradients. Will likely fail if a gradient is requested.\n",
      "WARNING:absl:Importing a function (__inference_batchnorm_layer_call_and_return_conditional_losses_41330) with ops with unsaved custom gradients. Will likely fail if a gradient is requested.\n",
      "WARNING:absl:Importing a function (__inference_batchnorm_layer_call_and_return_conditional_losses_205660) with ops with unsaved custom gradients. Will likely fail if a gradient is requested.\n",
      "WARNING:absl:Importing a function (__inference_batchnorm_layer_call_and_return_conditional_losses_206140) with ops with unsaved custom gradients. Will likely fail if a gradient is requested.\n",
      "WARNING:absl:Importing a function (__inference_batchnorm_layer_call_and_return_conditional_losses_45322) with ops with unsaved custom gradients. Will likely fail if a gradient is requested.\n",
      "WARNING:absl:Importing a function (__inference_batchnorm_layer_call_and_return_conditional_losses_50007) with ops with unsaved custom gradients. Will likely fail if a gradient is requested.\n",
      "WARNING:absl:Importing a function (__inference_batchnorm_layer_call_and_return_conditional_losses_48208) with ops with unsaved custom gradients. Will likely fail if a gradient is requested.\n",
      "WARNING:absl:Importing a function (__inference_batchnorm_layer_call_and_return_conditional_losses_49314) with ops with unsaved custom gradients. Will likely fail if a gradient is requested.\n",
      "WARNING:absl:Importing a function (__inference_batchnorm_layer_call_and_return_conditional_losses_205900) with ops with unsaved custom gradients. Will likely fail if a gradient is requested.\n",
      "WARNING:absl:Importing a function (__inference_batchnorm_layer_call_and_return_conditional_losses_43555) with ops with unsaved custom gradients. Will likely fail if a gradient is requested.\n",
      "WARNING:absl:Importing a function (__inference_batchnorm_layer_call_and_return_conditional_losses_46428) with ops with unsaved custom gradients. Will likely fail if a gradient is requested.\n",
      "WARNING:absl:Importing a function (__inference_batchnorm_layer_call_and_return_conditional_losses_52041) with ops with unsaved custom gradients. Will likely fail if a gradient is requested.\n",
      "WARNING:absl:Importing a function (__inference_batchnorm_layer_call_and_return_conditional_losses_203740) with ops with unsaved custom gradients. Will likely fail if a gradient is requested.\n",
      "WARNING:absl:Importing a function (__inference_batchnorm_layer_call_and_return_conditional_losses_22597) with ops with unsaved custom gradients. Will likely fail if a gradient is requested.\n",
      "WARNING:absl:Importing a function (__inference_batchnorm_layer_call_and_return_conditional_losses_204340) with ops with unsaved custom gradients. Will likely fail if a gradient is requested.\n",
      "WARNING:absl:Importing a function (__inference_batchnorm_layer_call_and_return_conditional_losses_209980) with ops with unsaved custom gradients. Will likely fail if a gradient is requested.\n",
      "WARNING:absl:Importing a function (__inference_batchnorm_layer_call_and_return_conditional_losses_48437) with ops with unsaved custom gradients. Will likely fail if a gradient is requested.\n",
      "WARNING:absl:Importing a function (__inference_batchnorm_layer_call_and_return_conditional_losses_209740) with ops with unsaved custom gradients. Will likely fail if a gradient is requested.\n",
      "WARNING:absl:Importing a function (__inference_batchnorm_layer_call_and_return_conditional_losses_202780) with ops with unsaved custom gradients. Will likely fail if a gradient is requested.\n",
      "WARNING:absl:Importing a function (__inference_batchnorm_layer_call_and_return_conditional_losses_23932) with ops with unsaved custom gradients. Will likely fail if a gradient is requested.\n",
      "WARNING:absl:Importing a function (__inference_convolutional_block_72_layer_call_and_return_conditional_losses_64920) with ops with unsaved custom gradients. Will likely fail if a gradient is requested.\n",
      "WARNING:absl:Importing a function (__inference_batchnorm_layer_call_and_return_conditional_losses_34179) with ops with unsaved custom gradients. Will likely fail if a gradient is requested.\n",
      "WARNING:absl:Importing a function (__inference_batchnorm_layer_call_and_return_conditional_losses_209380) with ops with unsaved custom gradients. Will likely fail if a gradient is requested.\n",
      "WARNING:absl:Importing a function (__inference_batchnorm_layer_call_and_return_conditional_losses_203500) with ops with unsaved custom gradients. Will likely fail if a gradient is requested.\n",
      "WARNING:absl:Importing a function (__inference_batchnorm_layer_call_and_return_conditional_losses_37122) with ops with unsaved custom gradients. Will likely fail if a gradient is requested.\n",
      "WARNING:absl:Importing a function (__inference_batchnorm_layer_call_and_return_conditional_losses_32577) with ops with unsaved custom gradients. Will likely fail if a gradient is requested.\n",
      "WARNING:absl:Importing a function (__inference_convolutional_block_73_layer_call_and_return_conditional_losses_65063) with ops with unsaved custom gradients. Will likely fail if a gradient is requested.\n"
     ]
    },
    {
     "name": "stderr",
     "output_type": "stream",
     "text": [
      "WARNING:absl:Importing a function (__inference_batchnorm_layer_call_and_return_conditional_losses_214900) with ops with unsaved custom gradients. Will likely fail if a gradient is requested.\n",
      "WARNING:absl:Importing a function (__inference_batchnorm_layer_call_and_return_conditional_losses_33734) with ops with unsaved custom gradients. Will likely fail if a gradient is requested.\n",
      "WARNING:absl:Importing a function (__inference_batchnorm_layer_call_and_return_conditional_losses_217900) with ops with unsaved custom gradients. Will likely fail if a gradient is requested.\n",
      "WARNING:absl:Importing a function (__inference_batchnorm_layer_call_and_return_conditional_losses_49778) with ops with unsaved custom gradients. Will likely fail if a gradient is requested.\n",
      "WARNING:absl:Importing a function (__inference_batchnorm_layer_call_and_return_conditional_losses_30810) with ops with unsaved custom gradients. Will likely fail if a gradient is requested.\n",
      "WARNING:absl:Importing a function (__inference_batchnorm_layer_call_and_return_conditional_losses_218740) with ops with unsaved custom gradients. Will likely fail if a gradient is requested.\n",
      "WARNING:absl:Importing a function (__inference_batchnorm_layer_call_and_return_conditional_losses_42436) with ops with unsaved custom gradients. Will likely fail if a gradient is requested.\n",
      "WARNING:absl:Importing a function (__inference_batchnorm_layer_call_and_return_conditional_losses_49562) with ops with unsaved custom gradients. Will likely fail if a gradient is requested.\n",
      "WARNING:absl:Importing a function (__inference_batchnorm_layer_call_and_return_conditional_losses_215620) with ops with unsaved custom gradients. Will likely fail if a gradient is requested.\n",
      "WARNING:absl:Importing a function (__inference_batchnorm_layer_call_and_return_conditional_losses_45767) with ops with unsaved custom gradients. Will likely fail if a gradient is requested.\n",
      "WARNING:absl:Importing a function (__inference_batchnorm_layer_call_and_return_conditional_losses_21046) with ops with unsaved custom gradients. Will likely fail if a gradient is requested.\n",
      "WARNING:absl:Importing a function (__inference_batchnorm_layer_call_and_return_conditional_losses_50471) with ops with unsaved custom gradients. Will likely fail if a gradient is requested.\n",
      "WARNING:absl:Importing a function (__inference_batchnorm_layer_call_and_return_conditional_losses_46657) with ops with unsaved custom gradients. Will likely fail if a gradient is requested.\n",
      "WARNING:absl:Importing a function (__inference_batchnorm_layer_call_and_return_conditional_losses_32825) with ops with unsaved custom gradients. Will likely fail if a gradient is requested.\n",
      "WARNING:absl:Importing a function (__inference_encoder_decoder_block_layer_call_and_return_conditional_losses_60787) with ops with unsaved custom gradients. Will likely fail if a gradient is requested.\n",
      "WARNING:absl:Importing a function (__inference_batchnorm_layer_call_and_return_conditional_losses_45551) with ops with unsaved custom gradients. Will likely fail if a gradient is requested.\n",
      "WARNING:absl:Importing a function (__inference_batchnorm_layer_call_and_return_conditional_losses_211300) with ops with unsaved custom gradients. Will likely fail if a gradient is requested.\n",
      "WARNING:absl:Importing a function (__inference_batchnorm_layer_call_and_return_conditional_losses_212980) with ops with unsaved custom gradients. Will likely fail if a gradient is requested.\n",
      "WARNING:absl:Importing a function (__inference_batchnorm_layer_call_and_return_conditional_losses_50223) with ops with unsaved custom gradients. Will likely fail if a gradient is requested.\n",
      "WARNING:absl:Importing a function (__inference_batchnorm_layer_call_and_return_conditional_losses_219340) with ops with unsaved custom gradients. Will likely fail if a gradient is requested.\n",
      "WARNING:absl:Importing a function (__inference_batchnorm_layer_call_and_return_conditional_losses_217420) with ops with unsaved custom gradients. Will likely fail if a gradient is requested.\n",
      "WARNING:absl:Importing a function (__inference_batchnorm_layer_call_and_return_conditional_losses_216460) with ops with unsaved custom gradients. Will likely fail if a gradient is requested.\n",
      "WARNING:absl:Importing a function (__inference_batchnorm_layer_call_and_return_conditional_losses_27250) with ops with unsaved custom gradients. Will likely fail if a gradient is requested.\n",
      "WARNING:absl:Importing a function (__inference_batchnorm_layer_call_and_return_conditional_losses_27924) with ops with unsaved custom gradients. Will likely fail if a gradient is requested.\n",
      "WARNING:absl:Importing a function (__inference_batchnorm_layer_call_and_return_conditional_losses_51825) with ops with unsaved custom gradients. Will likely fail if a gradient is requested.\n",
      "WARNING:absl:Importing a function (__inference_batchnorm_layer_call_and_return_conditional_losses_47318) with ops with unsaved custom gradients. Will likely fail if a gradient is requested.\n",
      "WARNING:absl:Importing a function (__inference_batchnorm_layer_call_and_return_conditional_losses_24593) with ops with unsaved custom gradients. Will likely fail if a gradient is requested.\n",
      "WARNING:absl:Importing a function (__inference_batchnorm_layer_call_and_return_conditional_losses_47102) with ops with unsaved custom gradients. Will likely fail if a gradient is requested.\n",
      "WARNING:absl:Importing a function (__inference_batchnorm_layer_call_and_return_conditional_losses_21936) with ops with unsaved custom gradients. Will likely fail if a gradient is requested.\n",
      "WARNING:absl:Importing a function (__inference_batchnorm_layer_call_and_return_conditional_losses_211540) with ops with unsaved custom gradients. Will likely fail if a gradient is requested.\n",
      "WARNING:absl:Importing a function (__inference_batchnorm_layer_call_and_return_conditional_losses_204580) with ops with unsaved custom gradients. Will likely fail if a gradient is requested.\n",
      "WARNING:absl:Importing a function (__inference_batchnorm_layer_call_and_return_conditional_losses_31916) with ops with unsaved custom gradients. Will likely fail if a gradient is requested.\n",
      "WARNING:absl:Importing a function (__inference_batchnorm_layer_call_and_return_conditional_losses_207580) with ops with unsaved custom gradients. Will likely fail if a gradient is requested.\n",
      "WARNING:absl:Importing a function (__inference_batchnorm_layer_call_and_return_conditional_losses_214540) with ops with unsaved custom gradients. Will likely fail if a gradient is requested.\n",
      "WARNING:absl:Importing a function (__inference_encoder_decoder_block_5_layer_call_and_return_conditional_losses_71112) with ops with unsaved custom gradients. Will likely fail if a gradient is requested.\n",
      "WARNING:absl:Importing a function (__inference_convolutional_block_36_layer_call_and_return_conditional_losses_64774) with ops with unsaved custom gradients. Will likely fail if a gradient is requested.\n",
      "WARNING:absl:Importing a function (__inference_encoder_decoder_block_layer_call_and_return_conditional_losses_188192) with ops with unsaved custom gradients. Will likely fail if a gradient is requested.\n",
      "WARNING:absl:Importing a function (__inference_batchnorm_layer_call_and_return_conditional_losses_219100) with ops with unsaved custom gradients. Will likely fail if a gradient is requested.\n",
      "WARNING:absl:Importing a function (__inference_batchnorm_layer_call_and_return_conditional_losses_29030) with ops with unsaved custom gradients. Will likely fail if a gradient is requested.\n",
      "WARNING:absl:Importing a function (__inference_batchnorm_layer_call_and_return_conditional_losses_201940) with ops with unsaved custom gradients. Will likely fail if a gradient is requested.\n",
      "WARNING:absl:Importing a function (__inference_input_downsample_block_layer_call_and_return_conditional_losses_181590) with ops with unsaved custom gradients. Will likely fail if a gradient is requested.\n",
      "WARNING:absl:Importing a function (__inference_batchnorm_layer_call_and_return_conditional_losses_51380) with ops with unsaved custom gradients. Will likely fail if a gradient is requested.\n",
      "WARNING:absl:Importing a function (__inference_batchnorm_layer_call_and_return_conditional_losses_206860) with ops with unsaved custom gradients. Will likely fail if a gradient is requested.\n"
     ]
    },
    {
     "name": "stderr",
     "output_type": "stream",
     "text": [
      "WARNING:absl:Importing a function (__inference_batchnorm_layer_call_and_return_conditional_losses_217660) with ops with unsaved custom gradients. Will likely fail if a gradient is requested.\n",
      "WARNING:absl:Importing a function (__inference_batchnorm_layer_call_and_return_conditional_losses_207340) with ops with unsaved custom gradients. Will likely fail if a gradient is requested.\n",
      "WARNING:absl:Importing a function (__inference_batchnorm_layer_call_and_return_conditional_losses_201700) with ops with unsaved custom gradients. Will likely fail if a gradient is requested.\n",
      "WARNING:absl:Importing a function (__inference_batchnorm_layer_call_and_return_conditional_losses_212260) with ops with unsaved custom gradients. Will likely fail if a gradient is requested.\n",
      "WARNING:absl:Importing a function (__inference_batchnorm_layer_call_and_return_conditional_losses_215380) with ops with unsaved custom gradients. Will likely fail if a gradient is requested.\n",
      "WARNING:absl:Importing a function (__inference_batchnorm_layer_call_and_return_conditional_losses_204220) with ops with unsaved custom gradients. Will likely fail if a gradient is requested.\n",
      "WARNING:absl:Importing a function (__inference_batchnorm_layer_call_and_return_conditional_losses_43987) with ops with unsaved custom gradients. Will likely fail if a gradient is requested.\n",
      "WARNING:absl:Importing a function (__inference_batchnorm_layer_call_and_return_conditional_losses_202180) with ops with unsaved custom gradients. Will likely fail if a gradient is requested.\n",
      "WARNING:absl:Importing a function (__inference_batchnorm_layer_call_and_return_conditional_losses_215740) with ops with unsaved custom gradients. Will likely fail if a gradient is requested.\n",
      "WARNING:absl:Importing a function (__inference_batchnorm_layer_call_and_return_conditional_losses_19495) with ops with unsaved custom gradients. Will likely fail if a gradient is requested.\n",
      "WARNING:absl:Importing a function (__inference_batchnorm_layer_call_and_return_conditional_losses_211780) with ops with unsaved custom gradients. Will likely fail if a gradient is requested.\n",
      "WARNING:absl:Importing a function (__inference_batchnorm_layer_call_and_return_conditional_losses_208180) with ops with unsaved custom gradients. Will likely fail if a gradient is requested.\n",
      "WARNING:absl:Importing a function (__inference_batchnorm_layer_call_and_return_conditional_losses_218980) with ops with unsaved custom gradients. Will likely fail if a gradient is requested.\n",
      "WARNING:absl:Importing a function (__inference_batchnorm_layer_call_and_return_conditional_losses_29475) with ops with unsaved custom gradients. Will likely fail if a gradient is requested.\n",
      "WARNING:absl:Importing a function (__inference_batchnorm_layer_call_and_return_conditional_losses_216100) with ops with unsaved custom gradients. Will likely fail if a gradient is requested.\n",
      "WARNING:absl:Importing a function (__inference_batchnorm_layer_call_and_return_conditional_losses_23042) with ops with unsaved custom gradients. Will likely fail if a gradient is requested.\n",
      "WARNING:absl:Importing a function (__inference_batchnorm_layer_call_and_return_conditional_losses_201820) with ops with unsaved custom gradients. Will likely fail if a gradient is requested.\n",
      "WARNING:absl:Importing a function (__inference_batchnorm_layer_call_and_return_conditional_losses_211060) with ops with unsaved custom gradients. Will likely fail if a gradient is requested.\n",
      "WARNING:absl:Importing a function (__inference_batchnorm_layer_call_and_return_conditional_losses_34643) with ops with unsaved custom gradients. Will likely fail if a gradient is requested.\n",
      "WARNING:absl:Importing a function (__inference_batchnorm_layer_call_and_return_conditional_losses_204940) with ops with unsaved custom gradients. Will likely fail if a gradient is requested.\n",
      "WARNING:absl:Importing a function (__inference_batchnorm_layer_call_and_return_conditional_losses_208660) with ops with unsaved custom gradients. Will likely fail if a gradient is requested.\n",
      "WARNING:absl:Importing a function (__inference_batchnorm_layer_call_and_return_conditional_losses_38444) with ops with unsaved custom gradients. Will likely fail if a gradient is requested.\n",
      "WARNING:absl:Importing a function (__inference_batchnorm_layer_call_and_return_conditional_losses_209140) with ops with unsaved custom gradients. Will likely fail if a gradient is requested.\n",
      "WARNING:absl:Importing a function (__inference_batchnorm_layer_call_and_return_conditional_losses_205780) with ops with unsaved custom gradients. Will likely fail if a gradient is requested.\n",
      "WARNING:absl:Importing a function (__inference_batchnorm_layer_call_and_return_conditional_losses_22381) with ops with unsaved custom gradients. Will likely fail if a gradient is requested.\n",
      "WARNING:absl:Importing a function (__inference_batchnorm_layer_call_and_return_conditional_losses_31255) with ops with unsaved custom gradients. Will likely fail if a gradient is requested.\n",
      "WARNING:absl:Importing a function (__inference_batchnorm_layer_call_and_return_conditional_losses_53166) with ops with unsaved custom gradients. Will likely fail if a gradient is requested.\n",
      "WARNING:absl:Importing a function (__inference_batchnorm_layer_call_and_return_conditional_losses_44216) with ops with unsaved custom gradients. Will likely fail if a gradient is requested.\n",
      "WARNING:absl:Importing a function (__inference_batchnorm_layer_call_and_return_conditional_losses_215860) with ops with unsaved custom gradients. Will likely fail if a gradient is requested.\n",
      "WARNING:absl:Importing a function (__inference_batchnorm_layer_call_and_return_conditional_losses_219940) with ops with unsaved custom gradients. Will likely fail if a gradient is requested.\n",
      "WARNING:absl:Importing a function (__inference_batchnorm_layer_call_and_return_conditional_losses_52257) with ops with unsaved custom gradients. Will likely fail if a gradient is requested.\n",
      "WARNING:absl:Importing a function (__inference_batchnorm_layer_call_and_return_conditional_losses_42665) with ops with unsaved custom gradients. Will likely fail if a gradient is requested.\n",
      "WARNING:absl:Importing a function (__inference_batchnorm_layer_call_and_return_conditional_losses_24148) with ops with unsaved custom gradients. Will likely fail if a gradient is requested.\n",
      "WARNING:absl:Importing a function (__inference_batchnorm_layer_call_and_return_conditional_losses_214660) with ops with unsaved custom gradients. Will likely fail if a gradient is requested.\n",
      "WARNING:absl:Importing a function (__inference_batchnorm_layer_call_and_return_conditional_losses_209500) with ops with unsaved custom gradients. Will likely fail if a gradient is requested.\n",
      "WARNING:absl:Importing a function (__inference_batchnorm_layer_call_and_return_conditional_losses_218140) with ops with unsaved custom gradients. Will likely fail if a gradient is requested.\n",
      "WARNING:absl:Importing a function (__inference_batchnorm_layer_call_and_return_conditional_losses_30136) with ops with unsaved custom gradients. Will likely fail if a gradient is requested.\n",
      "WARNING:absl:Importing a function (__inference_batchnorm_layer_call_and_return_conditional_losses_210220) with ops with unsaved custom gradients. Will likely fail if a gradient is requested.\n",
      "WARNING:absl:Importing a function (__inference_batchnorm_layer_call_and_return_conditional_losses_49098) with ops with unsaved custom gradients. Will likely fail if a gradient is requested.\n",
      "WARNING:absl:Importing a function (__inference_batchnorm_layer_call_and_return_conditional_losses_41775) with ops with unsaved custom gradients. Will likely fail if a gradient is requested.\n",
      "WARNING:absl:Importing a function (__inference_batchnorm_layer_call_and_return_conditional_losses_36893) with ops with unsaved custom gradients. Will likely fail if a gradient is requested.\n",
      "WARNING:absl:Importing a function (__inference_batchnorm_layer_call_and_return_conditional_losses_40885) with ops with unsaved custom gradients. Will likely fail if a gradient is requested.\n",
      "WARNING:absl:Importing a function (__inference_batchnorm_layer_call_and_return_conditional_losses_50916) with ops with unsaved custom gradients. Will likely fail if a gradient is requested.\n"
     ]
    },
    {
     "name": "stderr",
     "output_type": "stream",
     "text": [
      "WARNING:absl:Importing a function (__inference_batchnorm_layer_call_and_return_conditional_losses_39563) with ops with unsaved custom gradients. Will likely fail if a gradient is requested.\n",
      "WARNING:absl:Importing a function (__inference_batchnorm_layer_call_and_return_conditional_losses_30365) with ops with unsaved custom gradients. Will likely fail if a gradient is requested.\n",
      "WARNING:absl:Importing a function (__inference_batchnorm_layer_call_and_return_conditional_losses_217180) with ops with unsaved custom gradients. Will likely fail if a gradient is requested.\n",
      "WARNING:absl:Importing a function (__inference_batchnorm_layer_call_and_return_conditional_losses_29691) with ops with unsaved custom gradients. Will likely fail if a gradient is requested.\n",
      "WARNING:absl:Importing a function (__inference_convolutional_block_71_layer_call_and_return_conditional_losses_200410) with ops with unsaved custom gradients. Will likely fail if a gradient is requested.\n",
      "WARNING:absl:Importing a function (__inference_batchnorm_layer_call_and_return_conditional_losses_26373) with ops with unsaved custom gradients. Will likely fail if a gradient is requested.\n",
      "WARNING:absl:Importing a function (__inference_batchnorm_layer_call_and_return_conditional_losses_35304) with ops with unsaved custom gradients. Will likely fail if a gradient is requested.\n",
      "WARNING:absl:Importing a function (__inference_batchnorm_layer_call_and_return_conditional_losses_213460) with ops with unsaved custom gradients. Will likely fail if a gradient is requested.\n",
      "WARNING:absl:Importing a function (__inference_batchnorm_layer_call_and_return_conditional_losses_203860) with ops with unsaved custom gradients. Will likely fail if a gradient is requested.\n",
      "WARNING:absl:Importing a function (__inference_batchnorm_layer_call_and_return_conditional_losses_212860) with ops with unsaved custom gradients. Will likely fail if a gradient is requested.\n",
      "WARNING:absl:Importing a function (__inference_batchnorm_layer_call_and_return_conditional_losses_217060) with ops with unsaved custom gradients. Will likely fail if a gradient is requested.\n",
      "WARNING:absl:Importing a function (__inference_batchnorm_layer_call_and_return_conditional_losses_19279) with ops with unsaved custom gradients. Will likely fail if a gradient is requested.\n",
      "WARNING:absl:Importing a function (__inference_batchnorm_layer_call_and_return_conditional_losses_219580) with ops with unsaved custom gradients. Will likely fail if a gradient is requested.\n",
      "WARNING:absl:Importing a function (__inference_batchnorm_layer_call_and_return_conditional_losses_53859) with ops with unsaved custom gradients. Will likely fail if a gradient is requested.\n",
      "WARNING:absl:Importing a function (__inference_batchnorm_layer_call_and_return_conditional_losses_31471) with ops with unsaved custom gradients. Will likely fail if a gradient is requested.\n",
      "WARNING:absl:Importing a function (__inference_batchnorm_layer_call_and_return_conditional_losses_207820) with ops with unsaved custom gradients. Will likely fail if a gradient is requested.\n",
      "WARNING:absl:Importing a function (__inference_batchnorm_layer_call_and_return_conditional_losses_22152) with ops with unsaved custom gradients. Will likely fail if a gradient is requested.\n",
      "WARNING:absl:Importing a function (__inference_batchnorm_layer_call_and_return_conditional_losses_20601) with ops with unsaved custom gradients. Will likely fail if a gradient is requested.\n",
      "WARNING:absl:Importing a function (__inference_batchnorm_layer_call_and_return_conditional_losses_213340) with ops with unsaved custom gradients. Will likely fail if a gradient is requested.\n",
      "WARNING:absl:Importing a function (__inference_hourglass_network_layer_call_and_return_conditional_losses_155730) with ops with unsaved custom gradients. Will likely fail if a gradient is requested.\n",
      "WARNING:absl:Importing a function (__inference_batchnorm_layer_call_and_return_conditional_losses_54304) with ops with unsaved custom gradients. Will likely fail if a gradient is requested.\n",
      "WARNING:absl:Importing a function (__inference_center_net_hourglass_feature_extractor_layer_call_and_return_conditional_losses_136884) with ops with unsaved custom gradients. Will likely fail if a gradient is requested.\n",
      "WARNING:absl:Importing a function (__inference_batchnorm_layer_call_and_return_conditional_losses_214780) with ops with unsaved custom gradients. Will likely fail if a gradient is requested.\n",
      "WARNING:absl:Importing a function (__inference_batchnorm_layer_call_and_return_conditional_losses_220180) with ops with unsaved custom gradients. Will likely fail if a gradient is requested.\n",
      "WARNING:absl:Importing a function (__inference_batchnorm_layer_call_and_return_conditional_losses_214060) with ops with unsaved custom gradients. Will likely fail if a gradient is requested.\n",
      "WARNING:absl:Importing a function (__inference_batchnorm_layer_call_and_return_conditional_losses_39995) with ops with unsaved custom gradients. Will likely fail if a gradient is requested.\n",
      "WARNING:absl:Importing a function (__inference_batchnorm_layer_call_and_return_conditional_losses_39779) with ops with unsaved custom gradients. Will likely fail if a gradient is requested.\n",
      "WARNING:absl:Importing a function (__inference_batchnorm_layer_call_and_return_conditional_losses_52721) with ops with unsaved custom gradients. Will likely fail if a gradient is requested.\n",
      "WARNING:absl:Importing a function (__inference_convolutional_block_36_layer_call_and_return_conditional_losses_200274) with ops with unsaved custom gradients. Will likely fail if a gradient is requested.\n",
      "WARNING:absl:Importing a function (__inference_batchnorm_layer_call_and_return_conditional_losses_208420) with ops with unsaved custom gradients. Will likely fail if a gradient is requested.\n",
      "WARNING:absl:Importing a function (__inference_batchnorm_layer_call_and_return_conditional_losses_33041) with ops with unsaved custom gradients. Will likely fail if a gradient is requested.\n",
      "WARNING:absl:Importing a function (__inference_batchnorm_layer_call_and_return_conditional_losses_25928) with ops with unsaved custom gradients. Will likely fail if a gradient is requested.\n",
      "WARNING:absl:Importing a function (__inference_batchnorm_layer_call_and_return_conditional_losses_44432) with ops with unsaved custom gradients. Will likely fail if a gradient is requested.\n",
      "WARNING:absl:Importing a function (__inference_batchnorm_layer_call_and_return_conditional_losses_21707) with ops with unsaved custom gradients. Will likely fail if a gradient is requested.\n",
      "WARNING:absl:Importing a function (__inference_batchnorm_layer_call_and_return_conditional_losses_214180) with ops with unsaved custom gradients. Will likely fail if a gradient is requested.\n",
      "WARNING:absl:Importing a function (__inference_batchnorm_layer_call_and_return_conditional_losses_20385) with ops with unsaved custom gradients. Will likely fail if a gradient is requested.\n",
      "WARNING:absl:Importing a function (__inference_batchnorm_layer_call_and_return_conditional_losses_212620) with ops with unsaved custom gradients. Will likely fail if a gradient is requested.\n",
      "WARNING:absl:Importing a function (__inference_batchnorm_layer_call_and_return_conditional_losses_212380) with ops with unsaved custom gradients. Will likely fail if a gradient is requested.\n",
      "WARNING:absl:Importing a function (__inference_batchnorm_layer_call_and_return_conditional_losses_28585) with ops with unsaved custom gradients. Will likely fail if a gradient is requested.\n",
      "WARNING:absl:Importing a function (__inference_batchnorm_layer_call_and_return_conditional_losses_33950) with ops with unsaved custom gradients. Will likely fail if a gradient is requested.\n",
      "WARNING:absl:Importing a function (__inference_batchnorm_layer_call_and_return_conditional_losses_45983) with ops with unsaved custom gradients. Will likely fail if a gradient is requested.\n",
      "WARNING:absl:Importing a function (__inference_batchnorm_layer_call_and_return_conditional_losses_207940) with ops with unsaved custom gradients. Will likely fail if a gradient is requested.\n",
      "WARNING:absl:Importing a function (__inference_batchnorm_layer_call_and_return_conditional_losses_218860) with ops with unsaved custom gradients. Will likely fail if a gradient is requested.\n"
     ]
    },
    {
     "name": "stderr",
     "output_type": "stream",
     "text": [
      "WARNING:absl:Importing a function (__inference_batchnorm_layer_call_and_return_conditional_losses_46212) with ops with unsaved custom gradients. Will likely fail if a gradient is requested.\n",
      "WARNING:absl:Importing a function (__inference_batchnorm_layer_call_and_return_conditional_losses_25254) with ops with unsaved custom gradients. Will likely fail if a gradient is requested.\n",
      "WARNING:absl:Importing a function (__inference_batchnorm_layer_call_and_return_conditional_losses_209020) with ops with unsaved custom gradients. Will likely fail if a gradient is requested.\n",
      "WARNING:absl:Importing a function (__inference_batchnorm_layer_call_and_return_conditional_losses_19050) with ops with unsaved custom gradients. Will likely fail if a gradient is requested.\n",
      "WARNING:absl:Importing a function (__inference_batchnorm_layer_call_and_return_conditional_losses_213100) with ops with unsaved custom gradients. Will likely fail if a gradient is requested.\n",
      "WARNING:absl:Importing a function (__inference_batchnorm_layer_call_and_return_conditional_losses_20830) with ops with unsaved custom gradients. Will likely fail if a gradient is requested.\n",
      "WARNING:absl:Importing a function (__inference_batchnorm_layer_call_and_return_conditional_losses_202660) with ops with unsaved custom gradients. Will likely fail if a gradient is requested.\n",
      "WARNING:absl:Importing a function (__inference_batchnorm_layer_call_and_return_conditional_losses_205060) with ops with unsaved custom gradients. Will likely fail if a gradient is requested.\n",
      "WARNING:absl:Importing a function (__inference_batchnorm_layer_call_and_return_conditional_losses_33270) with ops with unsaved custom gradients. Will likely fail if a gradient is requested.\n",
      "WARNING:absl:Importing a function (__inference_batchnorm_layer_call_and_return_conditional_losses_213220) with ops with unsaved custom gradients. Will likely fail if a gradient is requested.\n",
      "WARNING:absl:Importing a function (__inference_batchnorm_layer_call_and_return_conditional_losses_206500) with ops with unsaved custom gradients. Will likely fail if a gradient is requested.\n",
      "WARNING:absl:Importing a function (__inference_batchnorm_layer_call_and_return_conditional_losses_212740) with ops with unsaved custom gradients. Will likely fail if a gradient is requested.\n",
      "WARNING:absl:Importing a function (__inference_batchnorm_layer_call_and_return_conditional_losses_219220) with ops with unsaved custom gradients. Will likely fail if a gradient is requested.\n",
      "WARNING:absl:Importing a function (__inference_batchnorm_layer_call_and_return_conditional_losses_41991) with ops with unsaved custom gradients. Will likely fail if a gradient is requested.\n",
      "WARNING:absl:Importing a function (__inference_batchnorm_layer_call_and_return_conditional_losses_220060) with ops with unsaved custom gradients. Will likely fail if a gradient is requested.\n",
      "WARNING:absl:Importing a function (__inference_convolutional_block_72_layer_call_and_return_conditional_losses_200543) with ops with unsaved custom gradients. Will likely fail if a gradient is requested.\n",
      "WARNING:absl:Importing a function (__inference_batchnorm_layer_call_and_return_conditional_losses_216220) with ops with unsaved custom gradients. Will likely fail if a gradient is requested.\n",
      "WARNING:absl:Importing a function (__inference_batchnorm_layer_call_and_return_conditional_losses_206260) with ops with unsaved custom gradients. Will likely fail if a gradient is requested.\n",
      "WARNING:absl:Importing a function (__inference_batchnorm_layer_call_and_return_conditional_losses_218020) with ops with unsaved custom gradients. Will likely fail if a gradient is requested.\n",
      "WARNING:absl:Importing a function (__inference_batchnorm_layer_call_and_return_conditional_losses_217780) with ops with unsaved custom gradients. Will likely fail if a gradient is requested.\n",
      "WARNING:absl:Importing a function (__inference_batchnorm_layer_call_and_return_conditional_losses_46873) with ops with unsaved custom gradients. Will likely fail if a gradient is requested.\n",
      "WARNING:absl:Importing a function (__inference_batchnorm_layer_call_and_return_conditional_losses_52505) with ops with unsaved custom gradients. Will likely fail if a gradient is requested.\n",
      "WARNING:absl:Importing a function (__inference_batchnorm_layer_call_and_return_conditional_losses_213580) with ops with unsaved custom gradients. Will likely fail if a gradient is requested.\n",
      "WARNING:absl:Importing a function (__inference_batchnorm_layer_call_and_return_conditional_losses_43326) with ops with unsaved custom gradients. Will likely fail if a gradient is requested.\n",
      "WARNING:absl:Importing a function (__inference_batchnorm_layer_call_and_return_conditional_losses_219700) with ops with unsaved custom gradients. Will likely fail if a gradient is requested.\n",
      "WARNING:absl:Importing a function (__inference_batchnorm_layer_call_and_return_conditional_losses_207700) with ops with unsaved custom gradients. Will likely fail if a gradient is requested.\n",
      "WARNING:absl:Importing a function (__inference_batchnorm_layer_call_and_return_conditional_losses_204460) with ops with unsaved custom gradients. Will likely fail if a gradient is requested.\n",
      "WARNING:absl:Importing a function (__inference_batchnorm_layer_call_and_return_conditional_losses_210820) with ops with unsaved custom gradients. Will likely fail if a gradient is requested.\n",
      "WARNING:absl:Importing a function (__inference_batchnorm_layer_call_and_return_conditional_losses_220300) with ops with unsaved custom gradients. Will likely fail if a gradient is requested.\n",
      "WARNING:absl:Importing a function (__inference_batchnorm_layer_call_and_return_conditional_losses_29920) with ops with unsaved custom gradients. Will likely fail if a gradient is requested.\n",
      "WARNING:absl:Importing a function (__inference_batchnorm_layer_call_and_return_conditional_losses_41114) with ops with unsaved custom gradients. Will likely fail if a gradient is requested.\n",
      "WARNING:absl:Importing a function (__inference_batchnorm_layer_call_and_return_conditional_losses_211180) with ops with unsaved custom gradients. Will likely fail if a gradient is requested.\n",
      "WARNING:absl:Importing a function (__inference_batchnorm_layer_call_and_return_conditional_losses_38673) with ops with unsaved custom gradients. Will likely fail if a gradient is requested.\n",
      "WARNING:absl:Importing a function (__inference_batchnorm_layer_call_and_return_conditional_losses_39334) with ops with unsaved custom gradients. Will likely fail if a gradient is requested.\n",
      "WARNING:absl:Importing a function (__inference_batchnorm_layer_call_and_return_conditional_losses_27695) with ops with unsaved custom gradients. Will likely fail if a gradient is requested.\n",
      "WARNING:absl:Importing a function (__inference_input_downsample_block_layer_call_and_return_conditional_losses_54872) with ops with unsaved custom gradients. Will likely fail if a gradient is requested.\n",
      "WARNING:absl:Importing a function (__inference_batchnorm_layer_call_and_return_conditional_losses_215260) with ops with unsaved custom gradients. Will likely fail if a gradient is requested.\n",
      "WARNING:absl:Importing a function (__inference_batchnorm_layer_call_and_return_conditional_losses_20156) with ops with unsaved custom gradients. Will likely fail if a gradient is requested.\n",
      "WARNING:absl:Importing a function (__inference_batchnorm_layer_call_and_return_conditional_losses_207220) with ops with unsaved custom gradients. Will likely fail if a gradient is requested.\n",
      "WARNING:absl:Importing a function (__inference_batchnorm_layer_call_and_return_conditional_losses_41559) with ops with unsaved custom gradients. Will likely fail if a gradient is requested.\n",
      "WARNING:absl:Importing a function (__inference_batchnorm_layer_call_and_return_conditional_losses_210340) with ops with unsaved custom gradients. Will likely fail if a gradient is requested.\n",
      "WARNING:absl:Importing a function (__inference_batchnorm_layer_call_and_return_conditional_losses_44661) with ops with unsaved custom gradients. Will likely fail if a gradient is requested.\n",
      "WARNING:absl:Importing a function (__inference_batchnorm_layer_call_and_return_conditional_losses_218380) with ops with unsaved custom gradients. Will likely fail if a gradient is requested.\n"
     ]
    },
    {
     "name": "stderr",
     "output_type": "stream",
     "text": [
      "WARNING:absl:Importing a function (__inference_batchnorm_layer_call_and_return_conditional_losses_28369) with ops with unsaved custom gradients. Will likely fail if a gradient is requested.\n",
      "WARNING:absl:Importing a function (__inference_hourglass_network_layer_call_and_return_conditional_losses_174576) with ops with unsaved custom gradients. Will likely fail if a gradient is requested.\n",
      "WARNING:absl:Importing a function (__inference_batchnorm_layer_call_and_return_conditional_losses_212500) with ops with unsaved custom gradients. Will likely fail if a gradient is requested.\n",
      "WARNING:absl:Importing a function (__inference_batchnorm_layer_call_and_return_conditional_losses_205300) with ops with unsaved custom gradients. Will likely fail if a gradient is requested.\n",
      "WARNING:absl:Importing a function (__inference_batchnorm_layer_call_and_return_conditional_losses_206020) with ops with unsaved custom gradients. Will likely fail if a gradient is requested.\n",
      "WARNING:absl:Importing a function (__inference_encoder_decoder_block_5_layer_call_and_return_conditional_losses_197040) with ops with unsaved custom gradients. Will likely fail if a gradient is requested.\n",
      "WARNING:absl:Importing a function (__inference_batchnorm_layer_call_and_return_conditional_losses_220420) with ops with unsaved custom gradients. Will likely fail if a gradient is requested.\n",
      "WARNING:absl:Importing a function (__inference_hourglass_network_layer_call_and_return_conditional_losses_93754) with ops with unsaved custom gradients. Will likely fail if a gradient is requested.\n",
      "WARNING:absl:Importing a function (__inference_batchnorm_layer_call_and_return_conditional_losses_202420) with ops with unsaved custom gradients. Will likely fail if a gradient is requested.\n",
      "WARNING:absl:Importing a function (__inference_batchnorm_layer_call_and_return_conditional_losses_23703) with ops with unsaved custom gradients. Will likely fail if a gradient is requested.\n",
      "WARNING:absl:Importing a function (__inference_batchnorm_layer_call_and_return_conditional_losses_25699) with ops with unsaved custom gradients. Will likely fail if a gradient is requested.\n",
      "WARNING:absl:Importing a function (__inference_batchnorm_layer_call_and_return_conditional_losses_37567) with ops with unsaved custom gradients. Will likely fail if a gradient is requested.\n",
      "WARNING:absl:Importing a function (__inference_batchnorm_layer_call_and_return_conditional_losses_40669) with ops with unsaved custom gradients. Will likely fail if a gradient is requested.\n",
      "WARNING:absl:Importing a function (__inference_batchnorm_layer_call_and_return_conditional_losses_216580) with ops with unsaved custom gradients. Will likely fail if a gradient is requested.\n",
      "WARNING:absl:Importing a function (__inference_batchnorm_layer_call_and_return_conditional_losses_32361) with ops with unsaved custom gradients. Will likely fail if a gradient is requested.\n",
      "WARNING:absl:Importing a function (__inference_batchnorm_layer_call_and_return_conditional_losses_211900) with ops with unsaved custom gradients. Will likely fail if a gradient is requested.\n",
      "WARNING:absl:Importing a function (__inference_batchnorm_layer_call_and_return_conditional_losses_34859) with ops with unsaved custom gradients. Will likely fail if a gradient is requested.\n",
      "WARNING:absl:Importing a function (__inference_batchnorm_layer_call_and_return_conditional_losses_218500) with ops with unsaved custom gradients. Will likely fail if a gradient is requested.\n",
      "WARNING:absl:Importing a function (__inference_batchnorm_layer_call_and_return_conditional_losses_51596) with ops with unsaved custom gradients. Will likely fail if a gradient is requested.\n",
      "WARNING:absl:Importing a function (__inference_batchnorm_layer_call_and_return_conditional_losses_25483) with ops with unsaved custom gradients. Will likely fail if a gradient is requested.\n",
      "WARNING:absl:Importing a function (__inference_batchnorm_layer_call_and_return_conditional_losses_204820) with ops with unsaved custom gradients. Will likely fail if a gradient is requested.\n",
      "WARNING:absl:Importing a function (__inference_batchnorm_layer_call_and_return_conditional_losses_212020) with ops with unsaved custom gradients. Will likely fail if a gradient is requested.\n",
      "WARNING:absl:Importing a function (__inference_batchnorm_layer_call_and_return_conditional_losses_211660) with ops with unsaved custom gradients. Will likely fail if a gradient is requested.\n",
      "WARNING:absl:Importing a function (__inference_batchnorm_layer_call_and_return_conditional_losses_32145) with ops with unsaved custom gradients. Will likely fail if a gradient is requested.\n",
      "WARNING:absl:Importing a function (__inference_batchnorm_layer_call_and_return_conditional_losses_28814) with ops with unsaved custom gradients. Will likely fail if a gradient is requested.\n",
      "WARNING:absl:Importing a function (__inference_batchnorm_layer_call_and_return_conditional_losses_36677) with ops with unsaved custom gradients. Will likely fail if a gradient is requested.\n",
      "WARNING:absl:Importing a function (__inference_batchnorm_layer_call_and_return_conditional_losses_203140) with ops with unsaved custom gradients. Will likely fail if a gradient is requested.\n",
      "WARNING:absl:Importing a function (__inference_batchnorm_layer_call_and_return_conditional_losses_210460) with ops with unsaved custom gradients. Will likely fail if a gradient is requested.\n",
      "WARNING:absl:Importing a function (__inference_batchnorm_layer_call_and_return_conditional_losses_207100) with ops with unsaved custom gradients. Will likely fail if a gradient is requested.\n",
      "WARNING:absl:Importing a function (__inference_batchnorm_layer_call_and_return_conditional_losses_209260) with ops with unsaved custom gradients. Will likely fail if a gradient is requested.\n",
      "WARNING:absl:Importing a function (__inference_batchnorm_layer_call_and_return_conditional_losses_53643) with ops with unsaved custom gradients. Will likely fail if a gradient is requested.\n",
      "WARNING:absl:Importing a function (__inference_batchnorm_layer_call_and_return_conditional_losses_206740) with ops with unsaved custom gradients. Will likely fail if a gradient is requested.\n",
      "WARNING:absl:Importing a function (__inference_batchnorm_layer_call_and_return_conditional_losses_208540) with ops with unsaved custom gradients. Will likely fail if a gradient is requested.\n",
      "WARNING:absl:Importing a function (__inference_batchnorm_layer_call_and_return_conditional_losses_201580) with ops with unsaved custom gradients. Will likely fail if a gradient is requested.\n",
      "WARNING:absl:Importing a function (__inference_batchnorm_layer_call_and_return_conditional_losses_212140) with ops with unsaved custom gradients. Will likely fail if a gradient is requested.\n",
      "WARNING:absl:Importing a function (__inference_batchnorm_layer_call_and_return_conditional_losses_36213) with ops with unsaved custom gradients. Will likely fail if a gradient is requested.\n",
      "WARNING:absl:Importing a function (__inference_batchnorm_layer_call_and_return_conditional_losses_206980) with ops with unsaved custom gradients. Will likely fail if a gradient is requested.\n",
      "WARNING:absl:Importing a function (__inference_batchnorm_layer_call_and_return_conditional_losses_218620) with ops with unsaved custom gradients. Will likely fail if a gradient is requested.\n",
      "WARNING:absl:Importing a function (__inference_batchnorm_layer_call_and_return_conditional_losses_202300) with ops with unsaved custom gradients. Will likely fail if a gradient is requested.\n",
      "WARNING:absl:Importing a function (__inference_batchnorm_layer_call_and_return_conditional_losses_210700) with ops with unsaved custom gradients. Will likely fail if a gradient is requested.\n",
      "WARNING:absl:Importing a function (__inference_batchnorm_layer_call_and_return_conditional_losses_23258) with ops with unsaved custom gradients. Will likely fail if a gradient is requested.\n",
      "WARNING:absl:Importing a function (__inference_batchnorm_layer_call_and_return_conditional_losses_47763) with ops with unsaved custom gradients. Will likely fail if a gradient is requested.\n",
      "WARNING:absl:Importing a function (__inference_batchnorm_layer_call_and_return_conditional_losses_48882) with ops with unsaved custom gradients. Will likely fail if a gradient is requested.\n"
     ]
    },
    {
     "name": "stderr",
     "output_type": "stream",
     "text": [
      "WARNING:absl:Importing a function (__inference_batchnorm_layer_call_and_return_conditional_losses_33486) with ops with unsaved custom gradients. Will likely fail if a gradient is requested.\n",
      "WARNING:absl:Importing a function (__inference_batchnorm_layer_call_and_return_conditional_losses_201460) with ops with unsaved custom gradients. Will likely fail if a gradient is requested.\n",
      "WARNING:absl:Importing a function (__inference_batchnorm_layer_call_and_return_conditional_losses_27479) with ops with unsaved custom gradients. Will likely fail if a gradient is requested.\n",
      "WARNING:absl:Importing a function (__inference_batchnorm_layer_call_and_return_conditional_losses_25038) with ops with unsaved custom gradients. Will likely fail if a gradient is requested.\n",
      "WARNING:absl:Importing a function (__inference_batchnorm_layer_call_and_return_conditional_losses_203620) with ops with unsaved custom gradients. Will likely fail if a gradient is requested.\n",
      "WARNING:absl:Importing a function (__inference_batchnorm_layer_call_and_return_conditional_losses_203380) with ops with unsaved custom gradients. Will likely fail if a gradient is requested.\n",
      "WARNING:absl:Importing a function (__inference_batchnorm_layer_call_and_return_conditional_losses_31700) with ops with unsaved custom gradients. Will likely fail if a gradient is requested.\n",
      "WARNING:absl:Importing a function (__inference_center_net_hourglass_feature_extractor_layer_call_and_return_conditional_losses_118038) with ops with unsaved custom gradients. Will likely fail if a gradient is requested.\n",
      "WARNING:absl:Importing a function (__inference_batchnorm_layer_call_and_return_conditional_losses_30581) with ops with unsaved custom gradients. Will likely fail if a gradient is requested.\n",
      "WARNING:absl:Importing a function (__inference_residual_block_69_layer_call_and_return_conditional_losses_65298) with ops with unsaved custom gradients. Will likely fail if a gradient is requested.\n",
      "WARNING:absl:Importing a function (__inference_batchnorm_layer_call_and_return_conditional_losses_214300) with ops with unsaved custom gradients. Will likely fail if a gradient is requested.\n",
      "WARNING:absl:Importing a function (__inference_batchnorm_layer_call_and_return_conditional_losses_205420) with ops with unsaved custom gradients. Will likely fail if a gradient is requested.\n",
      "WARNING:absl:Importing a function (__inference_batchnorm_layer_call_and_return_conditional_losses_214420) with ops with unsaved custom gradients. Will likely fail if a gradient is requested.\n",
      "WARNING:absl:Importing a function (__inference_batchnorm_layer_call_and_return_conditional_losses_34395) with ops with unsaved custom gradients. Will likely fail if a gradient is requested.\n",
      "WARNING:absl:Importing a function (__inference_batchnorm_layer_call_and_return_conditional_losses_36429) with ops with unsaved custom gradients. Will likely fail if a gradient is requested.\n",
      "WARNING:absl:Importing a function (__inference_batchnorm_layer_call_and_return_conditional_losses_37999) with ops with unsaved custom gradients. Will likely fail if a gradient is requested.\n",
      "WARNING:absl:Importing a function (__inference_batchnorm_layer_call_and_return_conditional_losses_215020) with ops with unsaved custom gradients. Will likely fail if a gradient is requested.\n",
      "WARNING:absl:Importing a function (__inference_batchnorm_layer_call_and_return_conditional_losses_207460) with ops with unsaved custom gradients. Will likely fail if a gradient is requested.\n",
      "WARNING:absl:Importing a function (__inference_batchnorm_layer_call_and_return_conditional_losses_217540) with ops with unsaved custom gradients. Will likely fail if a gradient is requested.\n",
      "WARNING:absl:Importing a function (__inference_batchnorm_layer_call_and_return_conditional_losses_26818) with ops with unsaved custom gradients. Will likely fail if a gradient is requested.\n",
      "WARNING:absl:Importing a function (__inference_batchnorm_layer_call_and_return_conditional_losses_210100) with ops with unsaved custom gradients. Will likely fail if a gradient is requested.\n",
      "WARNING:absl:Importing a function (__inference_batchnorm_layer_call_and_return_conditional_losses_42220) with ops with unsaved custom gradients. Will likely fail if a gradient is requested.\n",
      "WARNING:absl:Importing a function (__inference_batchnorm_layer_call_and_return_conditional_losses_204700) with ops with unsaved custom gradients. Will likely fail if a gradient is requested.\n",
      "WARNING:absl:Importing a function (__inference_batchnorm_layer_call_and_return_conditional_losses_50687) with ops with unsaved custom gradients. Will likely fail if a gradient is requested.\n",
      "WARNING:absl:Importing a function (__inference_batchnorm_layer_call_and_return_conditional_losses_19711) with ops with unsaved custom gradients. Will likely fail if a gradient is requested.\n",
      "WARNING:absl:Importing a function (__inference_batchnorm_layer_call_and_return_conditional_losses_205540) with ops with unsaved custom gradients. Will likely fail if a gradient is requested.\n",
      "WARNING:absl:Importing a function (__inference_batchnorm_layer_call_and_return_conditional_losses_51132) with ops with unsaved custom gradients. Will likely fail if a gradient is requested.\n",
      "WARNING:absl:Importing a function (__inference_batchnorm_layer_call_and_return_conditional_losses_43771) with ops with unsaved custom gradients. Will likely fail if a gradient is requested.\n",
      "WARNING:absl:Importing a function (__inference_batchnorm_layer_call_and_return_conditional_losses_48653) with ops with unsaved custom gradients. Will likely fail if a gradient is requested.\n",
      "WARNING:absl:Importing a function (__inference_batchnorm_layer_call_and_return_conditional_losses_215980) with ops with unsaved custom gradients. Will likely fail if a gradient is requested.\n",
      "WARNING:absl:Importing a function (__inference_batchnorm_layer_call_and_return_conditional_losses_213820) with ops with unsaved custom gradients. Will likely fail if a gradient is requested.\n",
      "WARNING:absl:Importing a function (__inference_batchnorm_layer_call_and_return_conditional_losses_26589) with ops with unsaved custom gradients. Will likely fail if a gradient is requested.\n",
      "WARNING:absl:Importing a function (__inference_batchnorm_layer_call_and_return_conditional_losses_27034) with ops with unsaved custom gradients. Will likely fail if a gradient is requested.\n",
      "WARNING:absl:Importing a function (__inference_batchnorm_layer_call_and_return_conditional_losses_203020) with ops with unsaved custom gradients. Will likely fail if a gradient is requested.\n",
      "WARNING:absl:Importing a function (__inference_batchnorm_layer_call_and_return_conditional_losses_35520) with ops with unsaved custom gradients. Will likely fail if a gradient is requested.\n",
      "WARNING:absl:Importing a function (__inference_batchnorm_layer_call_and_return_conditional_losses_211420) with ops with unsaved custom gradients. Will likely fail if a gradient is requested.\n",
      "WARNING:absl:Importing a function (__inference_batchnorm_layer_call_and_return_conditional_losses_210940) with ops with unsaved custom gradients. Will likely fail if a gradient is requested.\n",
      "WARNING:absl:Importing a function (__inference_batchnorm_layer_call_and_return_conditional_losses_21262) with ops with unsaved custom gradients. Will likely fail if a gradient is requested.\n",
      "WARNING:absl:Importing a function (__inference_batchnorm_layer_call_and_return_conditional_losses_216340) with ops with unsaved custom gradients. Will likely fail if a gradient is requested.\n",
      "WARNING:absl:Importing a function (__inference_batchnorm_layer_call_and_return_conditional_losses_19940) with ops with unsaved custom gradients. Will likely fail if a gradient is requested.\n",
      "WARNING:absl:Importing a function (__inference_batchnorm_layer_call_and_return_conditional_losses_35768) with ops with unsaved custom gradients. Will likely fail if a gradient is requested.\n",
      "WARNING:absl:Importing a function (__inference_batchnorm_layer_call_and_return_conditional_losses_215140) with ops with unsaved custom gradients. Will likely fail if a gradient is requested.\n",
      "WARNING:absl:Importing a function (__inference_batchnorm_layer_call_and_return_conditional_losses_218260) with ops with unsaved custom gradients. Will likely fail if a gradient is requested.\n"
     ]
    },
    {
     "name": "stderr",
     "output_type": "stream",
     "text": [
      "WARNING:absl:Importing a function (__inference_batchnorm_layer_call_and_return_conditional_losses_204100) with ops with unsaved custom gradients. Will likely fail if a gradient is requested.\n",
      "WARNING:absl:Importing a function (__inference_batchnorm_layer_call_and_return_conditional_losses_44877) with ops with unsaved custom gradients. Will likely fail if a gradient is requested.\n",
      "WARNING:absl:Importing a function (__inference_batchnorm_layer_call_and_return_conditional_losses_201340) with ops with unsaved custom gradients. Will likely fail if a gradient is requested.\n",
      "WARNING:absl:Importing a function (__inference_batchnorm_layer_call_and_return_conditional_losses_216820) with ops with unsaved custom gradients. Will likely fail if a gradient is requested.\n",
      "WARNING:absl:Importing a function (__inference_batchnorm_layer_call_and_return_conditional_losses_40440) with ops with unsaved custom gradients. Will likely fail if a gradient is requested.\n",
      "WARNING:absl:Importing a function (__inference_batchnorm_layer_call_and_return_conditional_losses_208300) with ops with unsaved custom gradients. Will likely fail if a gradient is requested.\n",
      "WARNING:absl:Importing a function (__inference_batchnorm_layer_call_and_return_conditional_losses_43110) with ops with unsaved custom gradients. Will likely fail if a gradient is requested.\n",
      "WARNING:absl:Importing a function (__inference_batchnorm_layer_call_and_return_conditional_losses_42881) with ops with unsaved custom gradients. Will likely fail if a gradient is requested.\n",
      "WARNING:absl:Importing a function (__inference_batchnorm_layer_call_and_return_conditional_losses_206620) with ops with unsaved custom gradients. Will likely fail if a gradient is requested.\n",
      "WARNING:absl:Importing a function (__inference_batchnorm_layer_call_and_return_conditional_losses_219460) with ops with unsaved custom gradients. Will likely fail if a gradient is requested.\n",
      "WARNING:absl:Importing a function (__inference_batchnorm_layer_call_and_return_conditional_losses_216700) with ops with unsaved custom gradients. Will likely fail if a gradient is requested.\n",
      "WARNING:absl:Importing a function (__inference_batchnorm_layer_call_and_return_conditional_losses_26144) with ops with unsaved custom gradients. Will likely fail if a gradient is requested.\n",
      "WARNING:absl:Importing a function (__inference_batchnorm_layer_call_and_return_conditional_losses_209620) with ops with unsaved custom gradients. Will likely fail if a gradient is requested.\n",
      "WARNING:absl:Importing a function (__inference_batchnorm_layer_call_and_return_conditional_losses_202540) with ops with unsaved custom gradients. Will likely fail if a gradient is requested.\n",
      "WARNING:absl:Importing a function (__inference_batchnorm_layer_call_and_return_conditional_losses_31026) with ops with unsaved custom gradients. Will likely fail if a gradient is requested.\n",
      "WARNING:absl:Importing a function (__inference_batchnorm_layer_call_and_return_conditional_losses_216940) with ops with unsaved custom gradients. Will likely fail if a gradient is requested.\n",
      "WARNING:absl:Importing a function (__inference_batchnorm_layer_call_and_return_conditional_losses_208780) with ops with unsaved custom gradients. Will likely fail if a gradient is requested.\n",
      "WARNING:absl:Importing a function (__inference_batchnorm_layer_call_and_return_conditional_losses_28140) with ops with unsaved custom gradients. Will likely fail if a gradient is requested.\n",
      "WARNING:absl:Importing a function (__inference_residual_block_69_layer_call_and_return_conditional_losses_200881) with ops with unsaved custom gradients. Will likely fail if a gradient is requested.\n",
      "WARNING:absl:Importing a function (__inference_batchnorm_layer_call_and_return_conditional_losses_217300) with ops with unsaved custom gradients. Will likely fail if a gradient is requested.\n",
      "WARNING:absl:Importing a function (__inference_batchnorm_layer_call_and_return_conditional_losses_213940) with ops with unsaved custom gradients. Will likely fail if a gradient is requested.\n",
      "WARNING:absl:Importing a function (__inference_batchnorm_layer_call_and_return_conditional_losses_24822) with ops with unsaved custom gradients. Will likely fail if a gradient is requested.\n",
      "WARNING:absl:Importing a function (__inference_batchnorm_layer_call_and_return_conditional_losses_208060) with ops with unsaved custom gradients. Will likely fail if a gradient is requested.\n",
      "WARNING:absl:Importing a function (__inference_batchnorm_layer_call_and_return_conditional_losses_22826) with ops with unsaved custom gradients. Will likely fail if a gradient is requested.\n",
      "WARNING:absl:Importing a function (__inference_batchnorm_layer_call_and_return_conditional_losses_37338) with ops with unsaved custom gradients. Will likely fail if a gradient is requested.\n",
      "WARNING:absl:Importing a function (__inference_batchnorm_layer_call_and_return_conditional_losses_23487) with ops with unsaved custom gradients. Will likely fail if a gradient is requested.\n",
      "WARNING:absl:Importing a function (__inference_batchnorm_layer_call_and_return_conditional_losses_47547) with ops with unsaved custom gradients. Will likely fail if a gradient is requested.\n",
      "WARNING:absl:Importing a function (__inference_batchnorm_layer_call_and_return_conditional_losses_35088) with ops with unsaved custom gradients. Will likely fail if a gradient is requested.\n",
      "WARNING:absl:Importing a function (__inference_batchnorm_layer_call_and_return_conditional_losses_21491) with ops with unsaved custom gradients. Will likely fail if a gradient is requested.\n",
      "WARNING:absl:Importing a function (__inference_batchnorm_layer_call_and_return_conditional_losses_29246) with ops with unsaved custom gradients. Will likely fail if a gradient is requested.\n",
      "WARNING:absl:Importing a function (__inference_batchnorm_layer_call_and_return_conditional_losses_219820) with ops with unsaved custom gradients. Will likely fail if a gradient is requested.\n",
      "WARNING:absl:Importing a function (__inference_batchnorm_layer_call_and_return_conditional_losses_40224) with ops with unsaved custom gradients. Will likely fail if a gradient is requested.\n",
      "WARNING:absl:Importing a function (__inference_batchnorm_layer_call_and_return_conditional_losses_203980) with ops with unsaved custom gradients. Will likely fail if a gradient is requested.\n",
      "WARNING:absl:Importing a function (__inference_batchnorm_layer_call_and_return_conditional_losses_39118) with ops with unsaved custom gradients. Will likely fail if a gradient is requested.\n",
      "WARNING:absl:Importing a function (__inference_batchnorm_layer_call_and_return_conditional_losses_37783) with ops with unsaved custom gradients. Will likely fail if a gradient is requested.\n",
      "WARNING:absl:Importing a function (__inference_batchnorm_layer_call_and_return_conditional_losses_24377) with ops with unsaved custom gradients. Will likely fail if a gradient is requested.\n",
      "WARNING:absl:Importing a function (__inference_convolutional_block_71_layer_call_and_return_conditional_losses_75099) with ops with unsaved custom gradients. Will likely fail if a gradient is requested.\n",
      "WARNING:absl:Importing a function (__inference_batchnorm_layer_call_and_return_conditional_losses_210580) with ops with unsaved custom gradients. Will likely fail if a gradient is requested.\n",
      "WARNING:absl:Importing a function (__inference_batchnorm_layer_call_and_return_conditional_losses_202900) with ops with unsaved custom gradients. Will likely fail if a gradient is requested.\n",
      "WARNING:absl:Importing a function (__inference_batchnorm_layer_call_and_return_conditional_losses_203260) with ops with unsaved custom gradients. Will likely fail if a gradient is requested.\n"
     ]
    }
   ],
   "source": [
    "detection_model_handle = 'https://tfhub.dev/tensorflow/centernet/hourglass_512x512/1'\n",
    "model = hub.load(detection_model_handle)"
   ]
  },
  {
   "cell_type": "code",
   "execution_count": 4,
   "id": "3ec9d3b4",
   "metadata": {
    "ExecuteTime": {
     "end_time": "2022-11-11T06:59:21.916895Z",
     "start_time": "2022-11-11T06:59:21.892890Z"
    }
   },
   "outputs": [],
   "source": [
    "def detect_fn(image):\n",
    "    \"\"\" detects object in an image\"\"\"\n",
    "    image, shapes = detection_model.preprocess(image)\n",
    "    prediction = detection_model.predict(image)\n",
    "    detections = detection_model.postprocess(prediction, shapes)\n",
    "    \n",
    "    return detections, prediction, tf.reshape(shapes, -1)\n",
    "\n",
    "def detect_fn2(image):\n",
    "    results = model(image)\n",
    "    results = {key: value.numpy() for key, value in results.items()}\n",
    "    return results"
   ]
  },
  {
   "cell_type": "code",
   "execution_count": 5,
   "id": "21f4f06b",
   "metadata": {
    "ExecuteTime": {
     "end_time": "2022-11-11T06:59:23.300526Z",
     "start_time": "2022-11-11T06:59:21.986592Z"
    }
   },
   "outputs": [],
   "source": [
    "def load_image_into_numpy_array(image):\n",
    "    \"\"\"loads an image and converts it to a numpy array\"\"\"\n",
    "    return np.array(np.expand_dims(image, 0), dtype=np.float32)"
   ]
  },
  {
   "cell_type": "code",
   "execution_count": 6,
   "id": "bd3a318f",
   "metadata": {
    "ExecuteTime": {
     "end_time": "2022-11-11T06:59:26.093790Z",
     "start_time": "2022-11-11T06:59:23.355507Z"
    }
   },
   "outputs": [],
   "source": [
    "path_to_labels = r'C:\\Users\\SHOCKER\\Tensorflow tutorials\\models\\research\\object_detection\\data\\mscoco_label_map.pbtxt'\n",
    "\n",
    "category_index = label_map_util.create_category_index_from_labelmap(path_to_labels)"
   ]
  },
  {
   "cell_type": "code",
   "execution_count": 7,
   "id": "a7dc5cda",
   "metadata": {
    "ExecuteTime": {
     "end_time": "2022-11-11T06:59:47.878215Z",
     "start_time": "2022-11-11T06:59:26.131273Z"
    }
   },
   "outputs": [],
   "source": [
    "cap = cv2.VideoCapture(0)"
   ]
  },
  {
   "cell_type": "code",
   "execution_count": null,
   "id": "b95211cb",
   "metadata": {
    "ExecuteTime": {
     "start_time": "2022-11-10T22:09:28.057Z"
    }
   },
   "outputs": [],
   "source": [
    "while True:\n",
    "    ret, image_np = cap.read()\n",
    "    \n",
    "    image_input = load_image_into_numpy_array(image_np)\n",
    "    \n",
    "    results = detect_fn2(image_input)\n",
    "    \n",
    "    label_id_offset=0\n",
    "    image_with_detections = image_np.copy()\n",
    "    \n",
    "    '''keypoint, keypoint_scores = None, None\n",
    "    if 'detection_keypoints' in results:\n",
    "        keypoint = results['detection_keypoints'][0]\n",
    "        keypoint_scores = results['detection_keypoint_scores'][0]'''\n",
    "    \n",
    "    viz_utils.visualize_boxes_and_labels_on_image_array(\n",
    "        image_with_detections,\n",
    "        results['detection_boxes'][0],\n",
    "        (results['detection_classes'][0] + label_id_offset).astype(int),\n",
    "        results['detection_scores'][0],\n",
    "        category_index,\n",
    "        use_normalized_coordinates=True,\n",
    "        max_boxes_to_draw=200,\n",
    "        min_score_thresh=.30,\n",
    "        agnostic_mode=False,\n",
    "        # keypoints=keypoints,\n",
    "        #  keypoint_scores=keypoint_scores,\n",
    ")\n",
    "    \n",
    "    cv2.imshow('Object Detection', cv2.resize(image_with_detections, (800, 600)))\n",
    "    \n",
    "    if cv2.waitKey(25) & 0xFF == ord('q'):\n",
    "        break\n",
    "\n",
    "cap.release()\n",
    "cv2.destroyAllWindows()"
   ]
  }
 ],
 "metadata": {
  "kernelspec": {
   "display_name": "Python 3 (ipykernel)",
   "language": "python",
   "name": "python3"
  },
  "language_info": {
   "codemirror_mode": {
    "name": "ipython",
    "version": 3
   },
   "file_extension": ".py",
   "mimetype": "text/x-python",
   "name": "python",
   "nbconvert_exporter": "python",
   "pygments_lexer": "ipython3",
   "version": "3.9.0"
  },
  "varInspector": {
   "cols": {
    "lenName": 16,
    "lenType": 16,
    "lenVar": 40
   },
   "kernels_config": {
    "python": {
     "delete_cmd_postfix": "",
     "delete_cmd_prefix": "del ",
     "library": "var_list.py",
     "varRefreshCmd": "print(var_dic_list())"
    },
    "r": {
     "delete_cmd_postfix": ") ",
     "delete_cmd_prefix": "rm(",
     "library": "var_list.r",
     "varRefreshCmd": "cat(var_dic_list()) "
    }
   },
   "types_to_exclude": [
    "module",
    "function",
    "builtin_function_or_method",
    "instance",
    "_Feature"
   ],
   "window_display": false
  }
 },
 "nbformat": 4,
 "nbformat_minor": 5
}
