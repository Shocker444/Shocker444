{
 "cells": [
  {
   "cell_type": "code",
   "execution_count": 1,
   "id": "c6e41e35",
   "metadata": {},
   "outputs": [],
   "source": [
    "import pandas as pd\n",
    "import numpy as np\n",
    "from sklearn.preprocessing import LabelEncoder\n",
    "from sklearn.model_selection import train_test_split\n",
    "from sklearn.linear_model import LogisticRegression\n",
    "from sklearn.metrics import accuracy_score\n",
    "from sklearn.preprocessing import StandardScaler"
   ]
  },
  {
   "cell_type": "code",
   "execution_count": 2,
   "id": "28108788",
   "metadata": {},
   "outputs": [],
   "source": [
    "data = pd.read_csv(r'C:/Users/SHOCKER/Downloads/data.csv', low_memory=False)\n",
    "test = pd.read_csv(r'C:/Users/SHOCKER/Downloads/test_data.csv', low_memory=False)\n",
    "y = data['bank_account']\n",
    "x = data.drop(['bank_account'], axis=1)"
   ]
  },
  {
   "cell_type": "code",
   "execution_count": 3,
   "id": "55e1e9e3",
   "metadata": {},
   "outputs": [],
   "source": [
    "le = LabelEncoder()\n",
    "y_train = le.fit_transform(y.values)\n"
   ]
  },
  {
   "cell_type": "code",
   "execution_count": 4,
   "id": "e4a1a7c3",
   "metadata": {},
   "outputs": [],
   "source": [
    "def preprocessing(pdata):\n",
    
    "    pdata[\"features_combination\"] = (pdata.education_level.astype(str) + \"-\" + pdata.job_type.astype(str))\n",
    "    pdata = pdata.drop(['education_level', 'job_type'], axis=1)\n",
    "    # converting categorical data using one hot encoding\n",
    "    category = [\"relationship_with_head\",\n",
    "                \"marital_status\",\n",
    "                \"features_combination\",\n",
    "                \"country\"]\n",
    "    pdata = pd.get_dummies(pdata, prefix_sep='-', columns=category)\n",
    "\n",
    "    # converting categorical data using label encoder\n",
    "    pdata['location_type'] = le.fit_transform(pdata['location_type'])\n",
    "    pdata['cellphone_access'] = le.fit_transform(pdata['cellphone_access'])\n",
    "    pdata['gender_of_respondent'] = le.fit_transform(pdata['gender_of_respondent'])\n",
    "\n",
    "    # dropping irrelevant columns\n",
    "    pdata = pdata.drop(['uniqueid'], axis=1)\n",
    "    pdata = pdata.drop(['year'], axis=1)\n",
    "\n",
    "\n",
    "    return pdata\n"
   ]
  },
  {
   "cell_type": "code",
   "execution_count": 5,
   "id": "76dcfe08",
   "metadata": {},
   "outputs": [],
   "source": [
    "X_train = preprocessing(x)\n",
    "scaler = StandardScaler()\n",
    "X_train = scaler.fit_transform(X_train)\n",
    "\n",
    "\n",
    "X_train, X_test, y_train, y_test = train_test_split(X_train, y_train, test_size=0.6)\n"
   ]
  },
  {
   "cell_type": "code",
   "execution_count": 6,
   "id": "7b0100e6",
   "metadata": {},
   "outputs": [
    {
     "name": "stdout",
     "output_type": "stream",
     "text": [
      "0.887708111937655\n"
     ]
    }
   ],
   "source": [
    "Knn = LogisticRegression()\n",
    "Knn.fit(X_train, y_train)\n",
    "predictions = Knn.predict(X_test)\n",
    "\n",
    "accuracy = accuracy_score(predictions, y_test)\n",
    "print(accuracy)"
   ]
  },
  {
   "cell_type": "code",
   "execution_count": 7,
   "id": "4fc0be60",
   "metadata": {},
   "outputs": [
    {
     "name": "stdout",
     "output_type": "stream",
     "text": [
      "(9409,)\n"
     ]
    }
   ],
   "source": [
    "print(y_train.shape)"
   ]
  },
  {
   "cell_type": "code",
   "execution_count": null,
   "id": "38fb0c1e",
   "metadata": {},
   "outputs": [],
   "source": []
  }
 ],
 "metadata": {
  "kernelspec": {
   "display_name": "Python 3 (ipykernel)",
   "language": "python",
   "name": "python3"
  },
  "language_info": {
   "codemirror_mode": {
    "name": "ipython",
    "version": 3
   },
   "file_extension": ".py",
   "mimetype": "text/x-python",
   "name": "python",
   "nbconvert_exporter": "python",
   "pygments_lexer": "ipython3",
   "version": "3.9.7"
  },
  "varInspector": {
   "cols": {
    "lenName": 16,
    "lenType": 16,
    "lenVar": 40
   },
   "kernels_config": {
    "python": {
     "delete_cmd_postfix": "",
     "delete_cmd_prefix": "del ",
     "library": "var_list.py",
     "varRefreshCmd": "print(var_dic_list())"
    },
    "r": {
     "delete_cmd_postfix": ") ",
     "delete_cmd_prefix": "rm(",
     "library": "var_list.r",
     "varRefreshCmd": "cat(var_dic_list()) "
    }
   },
   "types_to_exclude": [
    "module",
    "function",
    "builtin_function_or_method",
    "instance",
    "_Feature"
   ],
   "window_display": false
  }
 },
 "nbformat": 4,
 "nbformat_minor": 5
}
